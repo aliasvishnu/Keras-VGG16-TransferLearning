{
 "cells": [
  {
   "cell_type": "code",
   "execution_count": 4,
   "metadata": {
    "collapsed": false
   },
   "outputs": [],
   "source": [
    "import numpy as np\n",
    "from keras.models import Sequential\n",
    "from keras.optimizers import Adadelta, RMSprop, Adam\n",
    "from keras.layers.convolutional import Convolution2D, MaxPooling2D, \\\n",
    "MaxPooling1D\n",
    "from keras.layers.core import Dense, Activation, Dropout, Reshape\n",
    "from keras.regularizers import l2, l1\n",
    "from keras.utils.np_utils import to_categorical\n",
    "from keras.applications import VGG16\n",
    "from keras.models import Model"
   ]
  },
  {
   "cell_type": "code",
   "execution_count": 12,
   "metadata": {
    "collapsed": false
   },
   "outputs": [
    {
     "name": "stdout",
     "output_type": "stream",
     "text": [
      "(None, 256)\n",
      "(None, 256)\n"
     ]
    }
   ],
   "source": [
    "def getModel( output_dim ):\n",
    "    ''' \n",
    "        * output_dim: the number of classes (int)\n",
    "        \n",
    "        * return: compiled model (keras.engine.training.Model)\n",
    "    '''\n",
    "    vgg_model = VGG16( weights='imagenet', include_top=True )\n",
    "    vgg_out = vgg_model.layers[-2].output #Last FC layer's output  \n",
    "    softmax_layer = Dense(output_dim, activation = 'softmax')(vgg_out)\n",
    "\n",
    "    vgg_model.trainable = False\n",
    "\n",
    "    #Create new transfer learning model\n",
    "    tl_model = Model( input=vgg_model.input, output=softmax_layer )\n",
    "\n",
    "\n",
    "#     Confirm the model is appropriate\n",
    "    print tl_model.output_shape\n",
    "    \n",
    "    tl_model.compile(optimizer='rmsprop', loss='categorical_crossentropy'\\\n",
    "                    , metrics = ['accuracy'])    \n",
    "    \n",
    "    return tl_model\n",
    "\n",
    "def load_dataset(data):\n",
    "\n",
    "if __name__ == '__main__':\n",
    "    #Output dim for your dataset\n",
    "    output_dim = 256\n",
    "    \n",
    "    tl_model = getModel( output_dim ) \n",
    "    \n",
    "    \n",
    "    #Train the model\n",
    "    #Test the model\n"
   ]
  },
  {
   "cell_type": "code",
   "execution_count": null,
   "metadata": {
    "collapsed": true
   },
   "outputs": [],
   "source": []
  }
 ],
 "metadata": {
  "kernelspec": {
   "display_name": "Python 2",
   "language": "python",
   "name": "python2"
  },
  "language_info": {
   "codemirror_mode": {
    "name": "ipython",
    "version": 2
   },
   "file_extension": ".py",
   "mimetype": "text/x-python",
   "name": "python",
   "nbconvert_exporter": "python",
   "pygments_lexer": "ipython2",
   "version": "2.7.6"
  }
 },
 "nbformat": 4,
 "nbformat_minor": 0
}
