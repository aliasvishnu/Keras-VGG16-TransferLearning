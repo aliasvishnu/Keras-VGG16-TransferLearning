{
 "cells": [
  {
   "cell_type": "code",
   "execution_count": 1,
   "metadata": {
    "collapsed": false
   },
   "outputs": [
    {
     "name": "stderr",
     "output_type": "stream",
     "text": [
      "Using Theano backend.\n",
      "Using gpu device 1: Tesla K20c (CNMeM is disabled, cuDNN 4007)\n"
     ]
    }
   ],
   "source": [
    "import keras\n",
    "from keras.applications import VGG16\n",
    "from keras.models import Model\n",
    "from keras.layers import Dense, Dropout, Input\n",
    "from keras.regularizers import l2, activity_l2,l1\n",
    "from keras.utils import np_utils\n",
    "from keras.preprocessing.image import array_to_img, img_to_array, load_img\n",
    "from keras.applications.vgg16 import preprocess_input\n",
    "from PIL import Image\n",
    "from scipy import misc\n",
    "from keras.optimizers import SGD\n",
    "# from keras.utils.visualize_util import plot\n",
    "from os import listdir\n",
    "import numpy as np\n",
    "import matplotlib.pyplot as plt\n",
    "import scipy"
   ]
  },
  {
   "cell_type": "code",
   "execution_count": 11,
   "metadata": {
    "collapsed": true
   },
   "outputs": [],
   "source": [
    "def getModel( output_dim ):\n",
    "    # output_dim: the number of classes (int)\n",
    "    # return: compiled model (keras.engine.training.Model)\n",
    "    \n",
    "    vgg_model = VGG16( weights='imagenet', include_top=True )\n",
    "    vgg_out = vgg_model.layers[-2].output \n",
    "    \n",
    "    vgg_out = Dropout(0.25)(vgg_out)\n",
    "    #Create new transfer learning model    \n",
    "    out = Dense( output_dim, activation=\"softmax\", W_regularizer = l2(0.01))( vgg_out )\n",
    "\n",
    "    tl_model = Model( input=vgg_model.input, output=out )\n",
    "    for layer in tl_model.layers[0:-1]:\n",
    "        layer.trainable = False            \n",
    "\n",
    "    tl_model.compile(loss= \"categorical_crossentropy\", optimizer=\"sgd\", metrics=[\"acc\"])\n",
    "    \n",
    "    return tl_model"
   ]
  },
  {
   "cell_type": "code",
   "execution_count": 12,
   "metadata": {
    "collapsed": false
   },
   "outputs": [],
   "source": [
    "# define functions to laod images\n",
    "def loadBatchImages(path,s, nVal = 2):\n",
    "    # return array of images\n",
    "    catList = listdir(path)\n",
    "    loadedImagesTrain = []\n",
    "    loadedLabelsTrain = []\n",
    "    loadedImagesVal = []\n",
    "    loadedLabelsVal = []\n",
    "\n",
    "\n",
    "    for cat in catList[0:256]:\n",
    "        deepPath = path+cat+\"/\"\n",
    "        # if cat == \".DS_Store\": continue\n",
    "        imageList = listdir(deepPath)\n",
    "        indx = 0\n",
    "        for images in imageList[0:s + nVal]:                \n",
    "            img = load_img(deepPath + images)\n",
    "            img = img_to_array(img)\n",
    "            img = misc.imresize(img, (224,224))\n",
    "            img = scipy.misc.imrotate(img,180)\n",
    "            if indx < s:\n",
    "                loadedLabelsTrain.append(int(images[0:3])-1)\n",
    "                loadedImagesTrain.append(img)\n",
    "            else:\n",
    "                loadedLabelsVal.append(int(images[0:3])-1)\n",
    "                loadedImagesVal.append(img)\n",
    "            indx += 1\n",
    "            \n",
    "#     return np.asarray(loadedImages), np.asarray(loadedLabels)\n",
    "    return loadedImagesTrain, np_utils.to_categorical(loadedLabelsTrain), loadedImagesVal, np_utils.to_categorical(loadedLabelsVal) \n",
    "    \n",
    "def shuffledSet(a, b):\n",
    "    # shuffle the entire dataset\n",
    "    assert np.shape(a)[0] == np.shape(b)[0]\n",
    "    p = np.random.permutation(np.shape(a)[0])\n",
    "    return (a[p], b[p])\n"
   ]
  },
  {
   "cell_type": "code",
   "execution_count": 20,
   "metadata": {
    "collapsed": false
   },
   "outputs": [],
   "source": [
    "path = \"/mnt/cube/VGG_/256_ObjectCategories/\"    \n",
    "samCat = 8 # number of samples per category\n",
    "\n",
    "data, labels, dataVal, labelsVal = loadBatchImages(path,samCat, nVal = 2)\n",
    "\n",
    "data = preprocess_input(np.float64(data))\n",
    "data = data.swapaxes(1, 3).swapaxes(2, 3)\n",
    "\n",
    "dataVal = preprocess_input(np.float64(dataVal))\n",
    "dataVal = dataVal.swapaxes(1, 3).swapaxes(2, 3)\n",
    "\n",
    "train = shuffledSet(np.asarray(data),labels)\n",
    "val = shuffledSet(np.asarray(dataVal),labelsVal)"
   ]
  },
  {
   "cell_type": "code",
   "execution_count": null,
   "metadata": {
    "collapsed": false
   },
   "outputs": [],
   "source": [
    "plt.imshow(train[0][0][0])\n",
    "plt.show()\n",
    "print train[0].shape, val[0].shape"
   ]
  },
  {
   "cell_type": "code",
   "execution_count": null,
   "metadata": {
    "collapsed": false
   },
   "outputs": [],
   "source": [
    "output_dim = 256\n",
    "tl_model = getModel(output_dim) "
   ]
  },
  {
   "cell_type": "code",
   "execution_count": null,
   "metadata": {
    "collapsed": false
   },
   "outputs": [
    {
     "name": "stdout",
     "output_type": "stream",
     "text": [
      "Train on 2048 samples, validate on 512 samples\n",
      "Epoch 1/30\n",
      "2032/2048 [============================>.] - ETA: 0s - loss: 8.1702 - acc: 0.2259"
     ]
    }
   ],
   "source": [
    "nb_epoch = 30\n",
    "\n",
    "history = tl_model.fit(train[0], train[1], batch_size = 16, nb_epoch = nb_epoch, validation_data = val, \n",
    "                       shuffle = True)\n",
    "\n",
    "keras.callbacks.EarlyStopping(monitor='val_loss', min_delta = 0, patience = 2, verbose = 0, mode='auto')"
   ]
  },
  {
   "cell_type": "code",
   "execution_count": 16,
   "metadata": {
    "collapsed": false
   },
   "outputs": [
    {
     "name": "stderr",
     "output_type": "stream",
     "text": [
      "/usr/local/lib/python2.7/dist-packages/matplotlib-1.5.1+1724.g35e2781-py2.7-linux-x86_64.egg/matplotlib/legend.py:325: UserWarning: Unrecognized location \"right left\". Falling back on \"best\"; valid locations are\n",
      "\tright\n",
      "\tcenter left\n",
      "\tupper right\n",
      "\tlower right\n",
      "\tbest\n",
      "\tcenter\n",
      "\tlower left\n",
      "\tcenter right\n",
      "\tupper left\n",
      "\tupper center\n",
      "\tlower center\n",
      "\n",
      "  six.iterkeys(self.codes))))\n"
     ]
    }
   ],
   "source": [
    "plt.plot(history.history['loss'])\n",
    "plt.plot(history.history['val_loss'])\n",
    "plt.title('Model loss for %d samples per category' % samCat)\n",
    "plt.ylabel('loss')\n",
    "plt.xlabel('epoch')\n",
    "plt.legend(['train', 'test'], loc='right left')\n",
    "plt.show()\n",
    "\n",
    "plt.plot(history.history['val_acc'])\n",
    "plt.title('model accuracy for %d samples per category' % samCat)\n",
    "plt.ylabel('accuracy')\n",
    "plt.xlabel('epoch')\n",
    "plt.show()"
   ]
  },
  {
   "cell_type": "code",
   "execution_count": null,
   "metadata": {
    "collapsed": true
   },
   "outputs": [],
   "source": []
  }
 ],
 "metadata": {
  "kernelspec": {
   "display_name": "Python 2",
   "language": "python",
   "name": "python2"
  },
  "language_info": {
   "codemirror_mode": {
    "name": "ipython",
    "version": 2
   },
   "file_extension": ".py",
   "mimetype": "text/x-python",
   "name": "python",
   "nbconvert_exporter": "python",
   "pygments_lexer": "ipython2",
   "version": "2.7.6"
  }
 },
 "nbformat": 4,
 "nbformat_minor": 0
}
